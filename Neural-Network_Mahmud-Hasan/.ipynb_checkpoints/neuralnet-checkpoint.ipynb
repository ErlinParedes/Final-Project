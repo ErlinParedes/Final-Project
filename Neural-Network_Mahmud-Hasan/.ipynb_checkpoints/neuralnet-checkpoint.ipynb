{
 "cells": [
  {
   "cell_type": "code",
   "execution_count": 1,
   "id": "0e7abcf6-aeb8-446d-a44a-9aea97fa16f1",
   "metadata": {},
   "outputs": [],
   "source": [
    "import os\n",
    "import numpy as np\n",
    "import pandas as pd\n",
    "from matplotlib import pyplot as plt"
   ]
  },
  {
   "cell_type": "code",
   "execution_count": 2,
   "id": "4cca54f5-ab28-414a-86e8-3189dee18347",
   "metadata": {},
   "outputs": [],
   "source": [
    "curr_dir = os.getcwd()\n",
    "path = os.path.join(curr_dir, '../train.csv')\n",
    "data = pd.read_csv(path)\n",
    "\n",
    "data = np.array(data)\n",
    "m, n = data.shape # m is the rows, n is columns\n",
    "np.random.shuffle(data)"
   ]
  },
  {
   "cell_type": "code",
   "execution_count": 3,
   "id": "401d68f0-ebfa-4a1a-a81e-e9f88dad3923",
   "metadata": {},
   "outputs": [],
   "source": [
    "data_train = data[1000:m].T\n",
    "Y_train = data_train[0]\n",
    "X_train = data_train[1:n]\n",
    "X_train = X_train / 255."
   ]
  },
  {
   "cell_type": "code",
   "execution_count": 7,
   "id": "48442a52-db1d-40dd-9a29-8eeabadb7447",
   "metadata": {},
   "outputs": [
    {
     "name": "stdout",
     "output_type": "stream",
     "text": [
      "Data\n",
      "X_train:  [[0. 0. 0. ... 0. 0. 0.]\n",
      " [0. 0. 0. ... 0. 0. 0.]\n",
      " [0. 0. 0. ... 0. 0. 0.]\n",
      " ...\n",
      " [0. 0. 0. ... 0. 0. 0.]\n",
      " [0. 0. 0. ... 0. 0. 0.]\n",
      " [0. 0. 0. ... 0. 0. 0.]]\n",
      "Y_train:  [3 1 5 ... 8 6 3]\n"
     ]
    }
   ],
   "source": [
    "print(\"Data\")\n",
    "print(\"X_train: \", X_train)\n",
    "print(\"Y_train: \", Y_train)\n",
    "\n",
    "# x is the pixel data by row\n",
    "# y is the label of the data"
   ]
  },
  {
   "cell_type": "code",
   "execution_count": 5,
   "id": "a5344cd6-2681-47b7-8725-ff24916bcdff",
   "metadata": {},
   "outputs": [
    {
     "name": "stdout",
     "output_type": "stream",
     "text": [
      "Shape of data\n",
      "X_train:  (784, 41000)\n",
      "Y_train:  (41000,)\n"
     ]
    }
   ],
   "source": [
    "print(\"Shape of data\")\n",
    "print(\"X_train: \", X_train.shape)\n",
    "print(\"Y_train: \", Y_train.shape)"
   ]
  },
  {
   "cell_type": "code",
   "execution_count": 6,
   "id": "f4d36c97-9d24-4d6c-86c8-d36be8db3421",
   "metadata": {},
   "outputs": [
    {
     "name": "stdout",
     "output_type": "stream",
     "text": [
      "Pixel data for 1st image:  [0. 0. 0. ... 0. 0. 0.]\n",
      "Shape of image data:  (41000,)\n"
     ]
    }
   ],
   "source": [
    "print(\"Pixel data for 1st image: \", X_train[0])\n",
    "print(\"Shape of image data: \", X_train[0].shape)"
   ]
  },
  {
   "cell_type": "code",
   "execution_count": null,
   "id": "8dde23f7-3c5f-4eb1-b127-7ac8ef23fd0e",
   "metadata": {},
   "outputs": [],
   "source": []
  }
 ],
 "metadata": {
  "kernelspec": {
   "display_name": "Python 3 (ipykernel)",
   "language": "python",
   "name": "python3"
  },
  "language_info": {
   "codemirror_mode": {
    "name": "ipython",
    "version": 3
   },
   "file_extension": ".py",
   "mimetype": "text/x-python",
   "name": "python",
   "nbconvert_exporter": "python",
   "pygments_lexer": "ipython3",
   "version": "3.11.5"
  }
 },
 "nbformat": 4,
 "nbformat_minor": 5
}
