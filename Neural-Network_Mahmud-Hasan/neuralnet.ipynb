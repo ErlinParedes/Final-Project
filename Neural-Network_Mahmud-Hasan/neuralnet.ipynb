{
 "cells": [
  {
   "cell_type": "code",
   "execution_count": null,
   "id": "92e256ba-9632-485e-a343-e15231585b0d",
   "metadata": {},
   "outputs": [],
   "source": [
    "# 28 x 28 pixel image\n",
    "# as the images are greyscale, each pixel has value 0 (black) to 255 (white)\n",
    "\n",
    "# represent this first as a matrix, each row being an example and having 784 columns\n",
    "# corresponding to each pixel in the image\n",
    "\n",
    "# transpose this matrix such that each column is an example and each column has 784 rows\n",
    "\n",
    "# input layer: 784 nodes for each pixel\n",
    "# hiden layer: 10 nodes\n",
    "# ouput laye: 10 nodes for each possible digit classification\n",
    "\n",
    "# forward propegation\n",
    "# running image through the network to see what network outputs\n",
    "# A0 = x   (input layer 784 x m) \n",
    "# Z1 = w1 * A0 + b1  (weight (10 x 784) dot input + bias (10 x 1)) => 10 x m output\n",
    "# A1 =    (apply activation function, )"
   ]
  }
 ],
 "metadata": {
  "kernelspec": {
   "display_name": "Python 3 (ipykernel)",
   "language": "python",
   "name": "python3"
  },
  "language_info": {
   "codemirror_mode": {
    "name": "ipython",
    "version": 3
   },
   "file_extension": ".py",
   "mimetype": "text/x-python",
   "name": "python",
   "nbconvert_exporter": "python",
   "pygments_lexer": "ipython3",
   "version": "3.11.5"
  }
 },
 "nbformat": 4,
 "nbformat_minor": 5
}
