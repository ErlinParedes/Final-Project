{
 "cells": [
  {
   "cell_type": "code",
   "execution_count": null,
   "id": "92e256ba-9632-485e-a343-e15231585b0d",
   "metadata": {},
   "outputs": [],
   "source": [
    "# neural nets are essentially trying to fit a fnx onto \n",
    "\n",
    "# 28 x 28 pixel image\n",
    "# as the images are greyscale, each pixel has value 0 (black) to 255 (white)\n",
    "\n",
    "# represent this first as a matrix, each row being an example and having 784 columns\n",
    "# corresponding to each pixel in the image, brightness of pixels\n",
    "\n",
    "# transpose this matrix such that each column is an example and each column has 784 rows\n",
    "\n",
    "# input layer: 784 nodes for each pixel\n",
    "# hiden layer: 10 nodes\n",
    "# ouput laye: 10 nodes for each possible digit classification\n",
    "\n",
    "# forward propegation\n",
    "# running image through the network to see what network outputs\n",
    "# A0 = x   (input layer 784 x m) \n",
    "# Z1 = w1 * A0 + b1   (weight (10 x 784) dot input + bias (10 x 1)) => 10 x m output) (think of this as the synapes)\n",
    "# A1 = ReLu(Z1)   (apply activation function Relu)\n",
    "# Z2 = w2 * A1 + b2 (again this is like the connection between neuron/nodes)\n",
    "# A2 = softmax(Z2) (another activation function, softmax, which helps turn the outputs into a probability)\n",
    "\n",
    "# what are the correct weights and biases? that is determined in\n",
    "# backwards propegation\n",
    "# find out how much the prediction is off from the correct result, error, and determine how much the previous weight\n",
    "# and biases contriubte to this, and then adjust\n",
    "# dZ2 = A2 - Y    (take prediction and subtract the correct value, note that the node outputs a 10x1 matrix,\n",
    "#                  the correct matrix is similar execpt every row is 0 except the index for the correct number)\n",
    "# dw2 = 1/m * dZ2 * A1^T   (derivative of loss fnx with respect to the weights)\n",
    "# db2 = 1/m * SUM(dZ2)   (average of the errors)\n",
    "# dZ1 = w2^T * dZ2 * f'()   (this is sortve like propegation in reverse)"
   ]
  },
  {
   "cell_type": "code",
   "execution_count": null,
   "id": "0e7abcf6-aeb8-446d-a44a-9aea97fa16f1",
   "metadata": {},
   "outputs": [],
   "source": []
  }
 ],
 "metadata": {
  "kernelspec": {
   "display_name": "Python 3 (ipykernel)",
   "language": "python",
   "name": "python3"
  },
  "language_info": {
   "codemirror_mode": {
    "name": "ipython",
    "version": 3
   },
   "file_extension": ".py",
   "mimetype": "text/x-python",
   "name": "python",
   "nbconvert_exporter": "python",
   "pygments_lexer": "ipython3",
   "version": "3.11.5"
  }
 },
 "nbformat": 4,
 "nbformat_minor": 5
}
